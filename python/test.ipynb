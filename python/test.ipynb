{
 "cells": [
  {
   "cell_type": "code",
   "execution_count": 1,
   "metadata": {},
   "outputs": [],
   "source": [
    "import tweepy\n",
    "import numpy as np\n",
    "import pandas as pd\n",
    "from requests import get\n",
    "from bs4 import BeautifulSoup"
   ]
  },
  {
   "cell_type": "code",
   "execution_count": 3,
   "metadata": {},
   "outputs": [],
   "source": [
    "with open('/home/fordfishman/GitHub/nba-twitter-scoring/api/BEARER-TOKEN.txt') as f:\n",
    "\n",
    "    bearer_token = f.readline().strip()\n",
    "\n",
    "# with open('/home/fordfishman/GitHub/nba-twitter-scoring/api/BEARER-TOKEN.txt') as f:\n",
    "\n",
    "#     consumer_key = f.readline().strip()\n",
    "\n",
    "client = tweepy.Client(bearer_token=bearer_token)\n",
    "\n",
    "# auth = tweepy.OAuth1UserHandler()\n"
   ]
  },
  {
   "cell_type": "code",
   "execution_count": 4,
   "metadata": {},
   "outputs": [],
   "source": [
    "year = '2011'\n",
    "month = 'december'\n",
    "\n",
    "def month_schedule(year, month):\n",
    "\n",
    "    r = get(f'https://widgets.sports-reference.com/wg.fcgi?css=1&site=bbr&url=%2Fleagues%2FNBA_{year}_games-{month}.html&div=div_schedule')\n",
    "    if r.status_code == 200:\n",
    "        soup = BeautifulSoup(r.content, 'html.parser')\n",
    "        table = soup.find('table')\n",
    "        df = pd.read_html((str(table)))[0]\n",
    "    return df\n",
    "\n",
    "data = month_schedule(year, month)\n",
    "data = data.drop(columns=['Unnamed: 6', 'Unnamed: 7', 'Attend.', 'Notes'])\n",
    "data['dt'] = pd.to_datetime(data.Date + ' ' + data['Start (ET)'] + ' EST')\n",
    "data['margin'] = np.abs(data['PTS'] - data['PTS.1'])\n",
    "\n"
   ]
  },
  {
   "cell_type": "code",
   "execution_count": 5,
   "metadata": {},
   "outputs": [
    {
     "data": {
      "text/html": [
       "<div>\n",
       "<style scoped>\n",
       "    .dataframe tbody tr th:only-of-type {\n",
       "        vertical-align: middle;\n",
       "    }\n",
       "\n",
       "    .dataframe tbody tr th {\n",
       "        vertical-align: top;\n",
       "    }\n",
       "\n",
       "    .dataframe thead th {\n",
       "        text-align: right;\n",
       "    }\n",
       "</style>\n",
       "<table border=\"1\" class=\"dataframe\">\n",
       "  <thead>\n",
       "    <tr style=\"text-align: right;\">\n",
       "      <th></th>\n",
       "      <th>Date</th>\n",
       "      <th>Start (ET)</th>\n",
       "      <th>Visitor/Neutral</th>\n",
       "      <th>PTS</th>\n",
       "      <th>Home/Neutral</th>\n",
       "      <th>PTS.1</th>\n",
       "      <th>Arena</th>\n",
       "      <th>dt</th>\n",
       "      <th>margin</th>\n",
       "    </tr>\n",
       "  </thead>\n",
       "  <tbody>\n",
       "    <tr>\n",
       "      <th>0</th>\n",
       "      <td>Wed, Dec 1, 2010</td>\n",
       "      <td>7:00p</td>\n",
       "      <td>Memphis Grizzlies</td>\n",
       "      <td>109</td>\n",
       "      <td>Atlanta Hawks</td>\n",
       "      <td>112</td>\n",
       "      <td>Philips Arena</td>\n",
       "      <td>2010-12-01 19:00:00-05:00</td>\n",
       "      <td>3</td>\n",
       "    </tr>\n",
       "    <tr>\n",
       "      <th>1</th>\n",
       "      <td>Wed, Dec 1, 2010</td>\n",
       "      <td>7:00p</td>\n",
       "      <td>Oklahoma City Thunder</td>\n",
       "      <td>123</td>\n",
       "      <td>New Jersey Nets</td>\n",
       "      <td>120</td>\n",
       "      <td>Prudential Center</td>\n",
       "      <td>2010-12-01 19:00:00-05:00</td>\n",
       "      <td>3</td>\n",
       "    </tr>\n",
       "    <tr>\n",
       "      <th>2</th>\n",
       "      <td>Wed, Dec 1, 2010</td>\n",
       "      <td>7:00p</td>\n",
       "      <td>Washington Wizards</td>\n",
       "      <td>108</td>\n",
       "      <td>Toronto Raptors</td>\n",
       "      <td>127</td>\n",
       "      <td>Air Canada Centre</td>\n",
       "      <td>2010-12-01 19:00:00-05:00</td>\n",
       "      <td>19</td>\n",
       "    </tr>\n",
       "    <tr>\n",
       "      <th>3</th>\n",
       "      <td>Wed, Dec 1, 2010</td>\n",
       "      <td>7:30p</td>\n",
       "      <td>Portland Trail Blazers</td>\n",
       "      <td>95</td>\n",
       "      <td>Boston Celtics</td>\n",
       "      <td>99</td>\n",
       "      <td>TD Garden</td>\n",
       "      <td>2010-12-01 19:30:00-05:00</td>\n",
       "      <td>4</td>\n",
       "    </tr>\n",
       "    <tr>\n",
       "      <th>4</th>\n",
       "      <td>Wed, Dec 1, 2010</td>\n",
       "      <td>7:30p</td>\n",
       "      <td>Detroit Pistons</td>\n",
       "      <td>72</td>\n",
       "      <td>Miami Heat</td>\n",
       "      <td>97</td>\n",
       "      <td>AmericanAirlines Arena</td>\n",
       "      <td>2010-12-01 19:30:00-05:00</td>\n",
       "      <td>25</td>\n",
       "    </tr>\n",
       "    <tr>\n",
       "      <th>...</th>\n",
       "      <td>...</td>\n",
       "      <td>...</td>\n",
       "      <td>...</td>\n",
       "      <td>...</td>\n",
       "      <td>...</td>\n",
       "      <td>...</td>\n",
       "      <td>...</td>\n",
       "      <td>...</td>\n",
       "      <td>...</td>\n",
       "    </tr>\n",
       "    <tr>\n",
       "      <th>218</th>\n",
       "      <td>Fri, Dec 31, 2010</td>\n",
       "      <td>3:00p</td>\n",
       "      <td>Washington Wizards</td>\n",
       "      <td>86</td>\n",
       "      <td>Indiana Pacers</td>\n",
       "      <td>95</td>\n",
       "      <td>Conseco Fieldhouse</td>\n",
       "      <td>2010-12-31 15:00:00-05:00</td>\n",
       "      <td>9</td>\n",
       "    </tr>\n",
       "    <tr>\n",
       "      <th>219</th>\n",
       "      <td>Fri, Dec 31, 2010</td>\n",
       "      <td>7:00p</td>\n",
       "      <td>Toronto Raptors</td>\n",
       "      <td>105</td>\n",
       "      <td>Houston Rockets</td>\n",
       "      <td>114</td>\n",
       "      <td>Toyota Center</td>\n",
       "      <td>2010-12-31 19:00:00-05:00</td>\n",
       "      <td>9</td>\n",
       "    </tr>\n",
       "    <tr>\n",
       "      <th>220</th>\n",
       "      <td>Fri, Dec 31, 2010</td>\n",
       "      <td>8:00p</td>\n",
       "      <td>Atlanta Hawks</td>\n",
       "      <td>94</td>\n",
       "      <td>Oklahoma City Thunder</td>\n",
       "      <td>103</td>\n",
       "      <td>Chesapeake Energy Arena</td>\n",
       "      <td>2010-12-31 20:00:00-05:00</td>\n",
       "      <td>9</td>\n",
       "    </tr>\n",
       "    <tr>\n",
       "      <th>221</th>\n",
       "      <td>Fri, Dec 31, 2010</td>\n",
       "      <td>9:00p</td>\n",
       "      <td>Detroit Pistons</td>\n",
       "      <td>75</td>\n",
       "      <td>Phoenix Suns</td>\n",
       "      <td>92</td>\n",
       "      <td>US Airways Center</td>\n",
       "      <td>2010-12-31 21:00:00-05:00</td>\n",
       "      <td>17</td>\n",
       "    </tr>\n",
       "    <tr>\n",
       "      <th>222</th>\n",
       "      <td>Fri, Dec 31, 2010</td>\n",
       "      <td>10:30p</td>\n",
       "      <td>Philadelphia 76ers</td>\n",
       "      <td>98</td>\n",
       "      <td>Los Angeles Lakers</td>\n",
       "      <td>102</td>\n",
       "      <td>STAPLES Center</td>\n",
       "      <td>2010-12-31 22:30:00-05:00</td>\n",
       "      <td>4</td>\n",
       "    </tr>\n",
       "  </tbody>\n",
       "</table>\n",
       "<p>223 rows × 9 columns</p>\n",
       "</div>"
      ],
      "text/plain": [
       "                  Date Start (ET)         Visitor/Neutral  PTS  \\\n",
       "0     Wed, Dec 1, 2010      7:00p       Memphis Grizzlies  109   \n",
       "1     Wed, Dec 1, 2010      7:00p   Oklahoma City Thunder  123   \n",
       "2     Wed, Dec 1, 2010      7:00p      Washington Wizards  108   \n",
       "3     Wed, Dec 1, 2010      7:30p  Portland Trail Blazers   95   \n",
       "4     Wed, Dec 1, 2010      7:30p         Detroit Pistons   72   \n",
       "..                 ...        ...                     ...  ...   \n",
       "218  Fri, Dec 31, 2010      3:00p      Washington Wizards   86   \n",
       "219  Fri, Dec 31, 2010      7:00p         Toronto Raptors  105   \n",
       "220  Fri, Dec 31, 2010      8:00p           Atlanta Hawks   94   \n",
       "221  Fri, Dec 31, 2010      9:00p         Detroit Pistons   75   \n",
       "222  Fri, Dec 31, 2010     10:30p      Philadelphia 76ers   98   \n",
       "\n",
       "              Home/Neutral  PTS.1                    Arena  \\\n",
       "0            Atlanta Hawks    112            Philips Arena   \n",
       "1          New Jersey Nets    120        Prudential Center   \n",
       "2          Toronto Raptors    127        Air Canada Centre   \n",
       "3           Boston Celtics     99                TD Garden   \n",
       "4               Miami Heat     97   AmericanAirlines Arena   \n",
       "..                     ...    ...                      ...   \n",
       "218         Indiana Pacers     95       Conseco Fieldhouse   \n",
       "219        Houston Rockets    114            Toyota Center   \n",
       "220  Oklahoma City Thunder    103  Chesapeake Energy Arena   \n",
       "221           Phoenix Suns     92        US Airways Center   \n",
       "222     Los Angeles Lakers    102           STAPLES Center   \n",
       "\n",
       "                           dt  margin  \n",
       "0   2010-12-01 19:00:00-05:00       3  \n",
       "1   2010-12-01 19:00:00-05:00       3  \n",
       "2   2010-12-01 19:00:00-05:00      19  \n",
       "3   2010-12-01 19:30:00-05:00       4  \n",
       "4   2010-12-01 19:30:00-05:00      25  \n",
       "..                        ...     ...  \n",
       "218 2010-12-31 15:00:00-05:00       9  \n",
       "219 2010-12-31 19:00:00-05:00       9  \n",
       "220 2010-12-31 20:00:00-05:00       9  \n",
       "221 2010-12-31 21:00:00-05:00      17  \n",
       "222 2010-12-31 22:30:00-05:00       4  \n",
       "\n",
       "[223 rows x 9 columns]"
      ]
     },
     "execution_count": 5,
     "metadata": {},
     "output_type": "execute_result"
    }
   ],
   "source": [
    "data"
   ]
  },
  {
   "cell_type": "code",
   "execution_count": 8,
   "metadata": {},
   "outputs": [
    {
     "name": "stdout",
     "output_type": "stream",
     "text": [
      "You can get a burr grinder through airport security, if anyone was wondering\n"
     ]
    }
   ],
   "source": [
    "# Replace with your own search query\n",
    "query = 'from:spdizzo -is:retweet'\n",
    "\n",
    "tweets = client.search_recent_tweets(query=query, tweet_fields=['context_annotations', 'created_at'], max_results=100)\n",
    "\n",
    "for tweet in tweets.data:\n",
    "    print(tweet.text)\n",
    "    if len(tweet.context_annotations) > 0:\n",
    "        print(tweet.context_annotations)"
   ]
  },
  {
   "cell_type": "code",
   "execution_count": 16,
   "metadata": {},
   "outputs": [
    {
     "name": "stdout",
     "output_type": "stream",
     "text": [
      "You can get a burr grinder through airport security, if anyone was wondering\n"
     ]
    }
   ],
   "source": [
    "from datetime import datetime\n",
    "\n",
    "query = 'from:spdizzo '\n",
    "\n",
    "tweets = client.search_recent_tweets(query=query, tweet_fields=['context_annotations', 'created_at'], max_results=100)\n",
    "\n",
    "for tweet in tweets.data:\n",
    "    print(tweet.text)"
   ]
  },
  {
   "cell_type": "code",
   "execution_count": 21,
   "metadata": {},
   "outputs": [],
   "source": [
    "with open('/home/fordfishman/GitHub/nba-twitter-scoring/api/BEARER-TOKEN.txt') as f:\n",
    "\n",
    "    bearer_token = f.readline().strip()\n",
    "\n",
    "with open('/home/fordfishman/GitHub/nba-twitter-scoring/api/CONSUMER-TOKEN.txt') as f:\n",
    "\n",
    "    consumer_token = f.readline().strip()\n",
    "\n",
    "with open('/home/fordfishman/GitHub/nba-twitter-scoring/api/CONSUMER-SECRET.txt') as f:\n",
    "\n",
    "    consumer_secret = f.readline().strip()\n",
    "\n",
    "with open('/home/fordfishman/GitHub/nba-twitter-scoring/api/ACCESS-TOKEN.txt') as f:\n",
    "\n",
    "    access_token = f.readline().strip()\n",
    "\n",
    "with open('/home/fordfishman/GitHub/nba-twitter-scoring/api/ACCESS-SECRET.txt') as f:\n",
    "\n",
    "    access_secret = f.readline().strip()\n",
    "\n",
    " \n",
    "auth = tweepy.OAuthHandler(consumer_token, consumer_secret)\n",
    "auth.set_access_token(access_token, access_secret)\n",
    "api = tweepy.API(auth)\n"
   ]
  },
  {
   "cell_type": "code",
   "execution_count": 74,
   "metadata": {},
   "outputs": [
    {
     "data": {
      "text/plain": [
       "[('Fantasy Basketball - MUST ADD Buy Low Trade Targets\\n\\nhttps://t.co/2lglcCnOcX\\n\\n#fantasybasketball #fantasybasketballadvice #NBA #NBA2K23 #NBATwitterLive #NBAPicks #Suns #Nets #Celtics #Lakers #Hawks #Hornets #Grizzlies #Knicks #LameloBall #Lamelo #Bucks #76ers #Bulls #Warriors',\n",
       "  [{'text': 'fantasybasketball', 'indices': [78, 96]},\n",
       "   {'text': 'fantasybasketballadvice', 'indices': [97, 121]},\n",
       "   {'text': 'NBA', 'indices': [122, 126]},\n",
       "   {'text': 'NBA2K23', 'indices': [127, 135]},\n",
       "   {'text': 'NBATwitterLive', 'indices': [136, 151]},\n",
       "   {'text': 'NBAPicks', 'indices': [152, 161]},\n",
       "   {'text': 'Suns', 'indices': [162, 167]},\n",
       "   {'text': 'Nets', 'indices': [168, 173]},\n",
       "   {'text': 'Celtics', 'indices': [174, 182]},\n",
       "   {'text': 'Lakers', 'indices': [183, 190]},\n",
       "   {'text': 'Hawks', 'indices': [191, 197]},\n",
       "   {'text': 'Hornets', 'indices': [198, 206]},\n",
       "   {'text': 'Grizzlies', 'indices': [207, 217]},\n",
       "   {'text': 'Knicks', 'indices': [218, 225]},\n",
       "   {'text': 'LameloBall', 'indices': [226, 237]},\n",
       "   {'text': 'Lamelo', 'indices': [238, 245]},\n",
       "   {'text': 'Bucks', 'indices': [246, 252]},\n",
       "   {'text': '76ers', 'indices': [253, 259]},\n",
       "   {'text': 'Bulls', 'indices': [260, 266]},\n",
       "   {'text': 'Warriors', 'indices': [267, 276]}]),\n",
       " ('Celtics are still doing Celtics type shit #NBA 👇🏽 https://t.co/31PN89f1Nn',\n",
       "  [{'text': 'NBA', 'indices': [42, 46]}]),\n",
       " ('RT @CatholicVote: This Catholic NBA coach doesn’t mess around 😂🔥 @celtics #NBA https://t.co/UGigWwMsoI',\n",
       "  [{'text': 'NBA', 'indices': [74, 78]}]),\n",
       " ('RT @CatholicVote: This Catholic NBA coach doesn’t mess around 😂🔥 @celtics #NBA https://t.co/UGigWwMsoI',\n",
       "  [{'text': 'NBA', 'indices': [74, 78]}]),\n",
       " ('RT @CatholicVote: This Catholic NBA coach doesn’t mess around 😂🔥 @celtics #NBA https://t.co/UGigWwMsoI',\n",
       "  [{'text': 'NBA', 'indices': [74, 78]}]),\n",
       " ('RT @CatholicVote: This Catholic NBA coach doesn’t mess around 😂🔥 @celtics #NBA https://t.co/UGigWwMsoI',\n",
       "  [{'text': 'NBA', 'indices': [74, 78]}]),\n",
       " ('RT @CatholicVote: This Catholic NBA coach doesn’t mess around 😂🔥 @celtics #NBA https://t.co/UGigWwMsoI',\n",
       "  [{'text': 'NBA', 'indices': [74, 78]}]),\n",
       " ('RT @CatholicVote: This Catholic NBA coach doesn’t mess around 😂🔥 @celtics #NBA https://t.co/UGigWwMsoI',\n",
       "  [{'text': 'NBA', 'indices': [74, 78]}]),\n",
       " ('RT @CatholicVote: This Catholic NBA coach doesn’t mess around 😂🔥 @celtics #NBA https://t.co/UGigWwMsoI',\n",
       "  [{'text': 'NBA', 'indices': [74, 78]}]),\n",
       " ('RT @CatholicVote: This Catholic NBA coach doesn’t mess around 😂🔥 @celtics #NBA https://t.co/UGigWwMsoI',\n",
       "  [{'text': 'NBA', 'indices': [74, 78]}])]"
      ]
     },
     "execution_count": 74,
     "metadata": {},
     "output_type": "execute_result"
    }
   ],
   "source": [
    "tweets = tweepy.Cursor(api.search_tweets,\n",
    "                               'celtics #nba -is:retweet', lang=\"en\",\n",
    "                               since_id='2022-11-1',\n",
    "                               tweet_mode='extended').items(10)\n",
    "\n",
    "[(tweet.full_text,tweet.entities['hashtags']) for tweet in tweets]\n"
   ]
  },
  {
   "cell_type": "code",
   "execution_count": 32,
   "metadata": {},
   "outputs": [
    {
     "data": {
      "text/plain": [
       "<tweepy.cursor.ItemIterator at 0x7f03897c6990>"
      ]
     },
     "execution_count": 32,
     "metadata": {},
     "output_type": "execute_result"
    }
   ],
   "source": [
    "tweets"
   ]
  },
  {
   "cell_type": "code",
   "execution_count": 47,
   "metadata": {},
   "outputs": [
    {
     "data": {
      "text/plain": [
       "[]"
      ]
     },
     "execution_count": 47,
     "metadata": {},
     "output_type": "execute_result"
    }
   ],
   "source": [
    "\n"
   ]
  }
 ],
 "metadata": {
  "interpreter": {
   "hash": "4391829b1431c165c74ce5b7ab4583bb8bafe21cf8e6325fab67c2dc63370e3b"
  },
  "kernelspec": {
   "display_name": "Python 3.7.13 ('twitter')",
   "language": "python",
   "name": "python3"
  },
  "language_info": {
   "codemirror_mode": {
    "name": "ipython",
    "version": 3
   },
   "file_extension": ".py",
   "mimetype": "text/x-python",
   "name": "python",
   "nbconvert_exporter": "python",
   "pygments_lexer": "ipython3",
   "version": "3.7.13"
  },
  "orig_nbformat": 4
 },
 "nbformat": 4,
 "nbformat_minor": 2
}
